{
 "cells": [
  {
   "cell_type": "code",
   "execution_count": 1,
   "metadata": {},
   "outputs": [],
   "source": [
    "import ee\n",
    "\n",
    "from geeopca import opca\n",
    "from geeopca import geeopca\n",
    "\n"
   ]
  },
  {
   "cell_type": "code",
   "execution_count": 2,
   "metadata": {},
   "outputs": [],
   "source": [
    "ee.Initialize()"
   ]
  },
  {
   "cell_type": "code",
   "execution_count": 4,
   "metadata": {},
   "outputs": [
    {
     "data": {
      "text/plain": [
       "dict_keys(['2017', '2018', '2019', '2020', '2021', '2022', '2023'])"
      ]
     },
     "execution_count": 4,
     "metadata": {},
     "output_type": "execute_result"
    }
   ],
   "source": [
    "data = geeopca.load_json_data(\"./data.json\")\n",
    "data.keys()"
   ]
  },
  {
   "cell_type": "code",
   "execution_count": 5,
   "metadata": {},
   "outputs": [
    {
     "data": {
      "text/plain": [
       "[<ee.image.Image at 0x1561ce93d10>,\n",
       " <ee.image.Image at 0x1561ce92510>,\n",
       " <ee.image.Image at 0x1561ce902c0>,\n",
       " <ee.image.Image at 0x1561ce937a0>,\n",
       " <ee.image.Image at 0x1561ce90b90>,\n",
       " <ee.image.Image at 0x1561ce908c0>,\n",
       " <ee.image.Image at 0x1561ce90560>,\n",
       " <ee.image.Image at 0x1561ce90c50>,\n",
       " <ee.image.Image at 0x1561ce93110>,\n",
       " <ee.image.Image at 0x1561ce93140>,\n",
       " <ee.image.Image at 0x1561ce93170>,\n",
       " <ee.image.Image at 0x1561ce92ff0>,\n",
       " <ee.image.Image at 0x1561ce930e0>,\n",
       " <ee.image.Image at 0x1561ce903e0>]"
      ]
     },
     "execution_count": 5,
     "metadata": {},
     "output_type": "execute_result"
    }
   ],
   "source": [
    "data = [ee.Image(_) for _ in data.get('2023')]\n",
    "data"
   ]
  },
  {
   "cell_type": "code",
   "execution_count": 6,
   "metadata": {},
   "outputs": [],
   "source": [
    "temporal = opca.temporal_pca(data, ['B2', 'B3', 'B4', 'B8', 'B10', 'B11'])\n"
   ]
  },
  {
   "cell_type": "code",
   "execution_count": 14,
   "metadata": {},
   "outputs": [
    {
     "data": {
      "text/html": [
       "\n",
       "            <style>\n",
       "                .geemap-dark {\n",
       "                    --jp-widgets-color: white;\n",
       "                    --jp-widgets-label-color: white;\n",
       "                    --jp-ui-font-color1: white;\n",
       "                    --jp-layout-color2: #454545;\n",
       "                    background-color: #383838;\n",
       "                }\n",
       "\n",
       "                .geemap-dark .jupyter-button {\n",
       "                    --jp-layout-color3: #383838;\n",
       "                }\n",
       "\n",
       "                .geemap-colab {\n",
       "                    background-color: var(--colab-primary-surface-color, white);\n",
       "                }\n",
       "\n",
       "                .geemap-colab .jupyter-button {\n",
       "                    --jp-layout-color3: var(--colab-primary-surface-color, white);\n",
       "                }\n",
       "            </style>\n",
       "            "
      ],
      "text/plain": [
       "<IPython.core.display.HTML object>"
      ]
     },
     "metadata": {},
     "output_type": "display_data"
    },
    {
     "data": {
      "application/vnd.jupyter.widget-view+json": {
       "model_id": "5ff448e6266a4efaa3223da7e2a1b26d",
       "version_major": 2,
       "version_minor": 0
      },
      "text/plain": [
       "Map(center=[43.74488947850953, -76.80200573479831], controls=(WidgetControl(options=['position', 'transparent_…"
      ]
     },
     "execution_count": 14,
     "metadata": {},
     "output_type": "execute_result"
    }
   ],
   "source": [
    "import geemap\n",
    "\n",
    "IDX = 4\n",
    "# Define a region of interest, which could be the whole image\n",
    "pca_calc = temporal[IDX]\n",
    "roi = pca_calc.geometry()\n",
    "\n",
    "# Use the reducer to get the min and max\n",
    "stats = pca_calc.reduceRegion(reducer=ee.Reducer.minMax(), geometry=roi, bestEffort=True)\n",
    "\n",
    "# Get the min and max values\n",
    "min_val = stats.get('pc1_min').getInfo()\n",
    "max_val = stats.get('pc1_max').getInfo()\n",
    "\n",
    "pca_vis = {\n",
    "    'bands': ['pc1'],\n",
    "    'min': max_val,\n",
    "    'max': min_val\n",
    "}\n",
    "\n",
    "Map = geemap.Map()\n",
    "\n",
    "Map.addLayer(pca_calc, pca_vis, 'PCA (pc1)')\n",
    "Map.centerObject(pca_calc, 10)\n",
    "Map"
   ]
  },
  {
   "cell_type": "code",
   "execution_count": 10,
   "metadata": {},
   "outputs": [
    {
     "data": {
      "text/html": [
       "\n",
       "            <style>\n",
       "                .geemap-dark {\n",
       "                    --jp-widgets-color: white;\n",
       "                    --jp-widgets-label-color: white;\n",
       "                    --jp-ui-font-color1: white;\n",
       "                    --jp-layout-color2: #454545;\n",
       "                    background-color: #383838;\n",
       "                }\n",
       "\n",
       "                .geemap-dark .jupyter-button {\n",
       "                    --jp-layout-color3: #383838;\n",
       "                }\n",
       "\n",
       "                .geemap-colab {\n",
       "                    background-color: var(--colab-primary-surface-color, white);\n",
       "                }\n",
       "\n",
       "                .geemap-colab .jupyter-button {\n",
       "                    --jp-layout-color3: var(--colab-primary-surface-color, white);\n",
       "                }\n",
       "            </style>\n",
       "            "
      ],
      "text/plain": [
       "<IPython.core.display.HTML object>"
      ]
     },
     "metadata": {},
     "output_type": "display_data"
    },
    {
     "name": "stdout",
     "output_type": "stream",
     "text": [
      "-11493.664322839002\n",
      "-415.3313883317501\n"
     ]
    }
   ],
   "source": [
    "print(min_val)\n",
    "print(max_val)"
   ]
  },
  {
   "cell_type": "code",
   "execution_count": null,
   "metadata": {},
   "outputs": [],
   "source": []
  }
 ],
 "metadata": {
  "kernelspec": {
   "display_name": "geeopca-dev",
   "language": "python",
   "name": "python3"
  },
  "language_info": {
   "codemirror_mode": {
    "name": "ipython",
    "version": 3
   },
   "file_extension": ".py",
   "mimetype": "text/x-python",
   "name": "python",
   "nbconvert_exporter": "python",
   "pygments_lexer": "ipython3",
   "version": "3.12.2"
  }
 },
 "nbformat": 4,
 "nbformat_minor": 2
}
