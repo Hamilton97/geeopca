{
 "cells": [
  {
   "cell_type": "code",
   "execution_count": 1,
   "metadata": {},
   "outputs": [],
   "source": [
    "import ee\n",
    "import geemap\n"
   ]
  },
  {
   "cell_type": "code",
   "execution_count": 2,
   "metadata": {},
   "outputs": [
    {
     "data": {
      "text/html": [
       "\n",
       "            <style>\n",
       "                .geemap-dark {\n",
       "                    --jp-widgets-color: white;\n",
       "                    --jp-widgets-label-color: white;\n",
       "                    --jp-ui-font-color1: white;\n",
       "                    --jp-layout-color2: #454545;\n",
       "                    background-color: #383838;\n",
       "                }\n",
       "\n",
       "                .geemap-dark .jupyter-button {\n",
       "                    --jp-layout-color3: #383838;\n",
       "                }\n",
       "\n",
       "                .geemap-colab {\n",
       "                    background-color: var(--colab-primary-surface-color, white);\n",
       "                }\n",
       "\n",
       "                .geemap-colab .jupyter-button {\n",
       "                    --jp-layout-color3: var(--colab-primary-surface-color, white);\n",
       "                }\n",
       "            </style>\n",
       "            "
      ],
      "text/plain": [
       "<IPython.core.display.HTML object>"
      ]
     },
     "metadata": {},
     "output_type": "display_data"
    }
   ],
   "source": [
    "ee.Initialize()"
   ]
  },
  {
   "cell_type": "code",
   "execution_count": 3,
   "metadata": {},
   "outputs": [
    {
     "data": {
      "text/html": [
       "\n",
       "            <style>\n",
       "                .geemap-dark {\n",
       "                    --jp-widgets-color: white;\n",
       "                    --jp-widgets-label-color: white;\n",
       "                    --jp-ui-font-color1: white;\n",
       "                    --jp-layout-color2: #454545;\n",
       "                    background-color: #383838;\n",
       "                }\n",
       "\n",
       "                .geemap-dark .jupyter-button {\n",
       "                    --jp-layout-color3: #383838;\n",
       "                }\n",
       "\n",
       "                .geemap-colab {\n",
       "                    background-color: var(--colab-primary-surface-color, white);\n",
       "                }\n",
       "\n",
       "                .geemap-colab .jupyter-button {\n",
       "                    --jp-layout-color3: var(--colab-primary-surface-color, white);\n",
       "                }\n",
       "            </style>\n",
       "            "
      ],
      "text/plain": [
       "<IPython.core.display.HTML object>"
      ]
     },
     "metadata": {},
     "output_type": "display_data"
    }
   ],
   "source": [
    "from geeopca import ee_datasets\n",
    "\n",
    "\n",
    "aoi = ee.Geometry.Polygon(\n",
    "    [\n",
    "        [-77.4467, 44.1024],\n",
    "        [-77.4467, 44.2352],\n",
    "        [-77.2686, 44.2352],\n",
    "        [-77.2686, 44.1024],\n",
    "        [-77.4467, 44.1024],\n",
    "    ]\n",
    ")\n",
    "\n",
    "DATES = [(f'{year}-04-01', f'{year}-10-31') for year in range(2017, 2024)]\n",
    "\n",
    "s2_dataset = ee_datasets.get_s2_toa(aoi, dates=DATES)\n"
   ]
  },
  {
   "cell_type": "code",
   "execution_count": 4,
   "metadata": {},
   "outputs": [
    {
     "data": {
      "text/html": [
       "\n",
       "            <style>\n",
       "                .geemap-dark {\n",
       "                    --jp-widgets-color: white;\n",
       "                    --jp-widgets-label-color: white;\n",
       "                    --jp-ui-font-color1: white;\n",
       "                    --jp-layout-color2: #454545;\n",
       "                    background-color: #383838;\n",
       "                }\n",
       "\n",
       "                .geemap-dark .jupyter-button {\n",
       "                    --jp-layout-color3: #383838;\n",
       "                }\n",
       "\n",
       "                .geemap-colab {\n",
       "                    background-color: var(--colab-primary-surface-color, white);\n",
       "                }\n",
       "\n",
       "                .geemap-colab .jupyter-button {\n",
       "                    --jp-layout-color3: var(--colab-primary-surface-color, white);\n",
       "                }\n",
       "            </style>\n",
       "            "
      ],
      "text/plain": [
       "<IPython.core.display.HTML object>"
      ]
     },
     "metadata": {},
     "output_type": "display_data"
    },
    {
     "data": {
      "text/html": [
       "<div>\n",
       "<style scoped>\n",
       "    .dataframe tbody tr th:only-of-type {\n",
       "        vertical-align: middle;\n",
       "    }\n",
       "\n",
       "    .dataframe tbody tr th {\n",
       "        vertical-align: top;\n",
       "    }\n",
       "\n",
       "    .dataframe thead th {\n",
       "        text-align: right;\n",
       "    }\n",
       "</style>\n",
       "<table border=\"1\" class=\"dataframe\">\n",
       "  <thead>\n",
       "    <tr style=\"text-align: right;\">\n",
       "      <th></th>\n",
       "      <th>geometry</th>\n",
       "      <th>sysid</th>\n",
       "      <th>system_prefix</th>\n",
       "      <th>utc</th>\n",
       "      <th>system_index</th>\n",
       "    </tr>\n",
       "  </thead>\n",
       "  <tbody>\n",
       "    <tr>\n",
       "      <th>0</th>\n",
       "      <td>POLYGON ((-77.44500 44.22733, -77.44502 44.227...</td>\n",
       "      <td>20170611T161351_20170611T161345_T18TUP</td>\n",
       "      <td>COPERNICUS/S2_HARMONIZED</td>\n",
       "      <td>1497197625460</td>\n",
       "      <td>COPERNICUS/S2_HARMONIZED/20170611T161351_20170...</td>\n",
       "    </tr>\n",
       "    <tr>\n",
       "      <th>1</th>\n",
       "      <td>POLYGON ((-77.48083 44.13854, -77.48077 44.138...</td>\n",
       "      <td>20170611T161351_20170611T161345_T18TUQ</td>\n",
       "      <td>COPERNICUS/S2_HARMONIZED</td>\n",
       "      <td>1497197625460</td>\n",
       "      <td>COPERNICUS/S2_HARMONIZED/20170611T161351_20170...</td>\n",
       "    </tr>\n",
       "    <tr>\n",
       "      <th>2</th>\n",
       "      <td>POLYGON ((-77.50419 44.22598, -77.50420 44.225...</td>\n",
       "      <td>20170621T161341_20170621T161517_T18TUP</td>\n",
       "      <td>COPERNICUS/S2_HARMONIZED</td>\n",
       "      <td>1498061717260</td>\n",
       "      <td>COPERNICUS/S2_HARMONIZED/20170621T161341_20170...</td>\n",
       "    </tr>\n",
       "    <tr>\n",
       "      <th>3</th>\n",
       "      <td>POLYGON ((-77.43574 44.22753, -77.43577 44.227...</td>\n",
       "      <td>20170701T161341_20170701T161454_T18TUP</td>\n",
       "      <td>COPERNICUS/S2_HARMONIZED</td>\n",
       "      <td>1498925694610</td>\n",
       "      <td>COPERNICUS/S2_HARMONIZED/20170701T161341_20170...</td>\n",
       "    </tr>\n",
       "    <tr>\n",
       "      <th>4</th>\n",
       "      <td>POLYGON ((-77.51674 44.52233, -77.51686 44.522...</td>\n",
       "      <td>20170721T161351_20170721T162051_T18TUQ</td>\n",
       "      <td>COPERNICUS/S2_HARMONIZED</td>\n",
       "      <td>1500654051180</td>\n",
       "      <td>COPERNICUS/S2_HARMONIZED/20170721T161351_20170...</td>\n",
       "    </tr>\n",
       "  </tbody>\n",
       "</table>\n",
       "</div>"
      ],
      "text/plain": [
       "                                            geometry  \\\n",
       "0  POLYGON ((-77.44500 44.22733, -77.44502 44.227...   \n",
       "1  POLYGON ((-77.48083 44.13854, -77.48077 44.138...   \n",
       "2  POLYGON ((-77.50419 44.22598, -77.50420 44.225...   \n",
       "3  POLYGON ((-77.43574 44.22753, -77.43577 44.227...   \n",
       "4  POLYGON ((-77.51674 44.52233, -77.51686 44.522...   \n",
       "\n",
       "                                    sysid             system_prefix  \\\n",
       "0  20170611T161351_20170611T161345_T18TUP  COPERNICUS/S2_HARMONIZED   \n",
       "1  20170611T161351_20170611T161345_T18TUQ  COPERNICUS/S2_HARMONIZED   \n",
       "2  20170621T161341_20170621T161517_T18TUP  COPERNICUS/S2_HARMONIZED   \n",
       "3  20170701T161341_20170701T161454_T18TUP  COPERNICUS/S2_HARMONIZED   \n",
       "4  20170721T161351_20170721T162051_T18TUQ  COPERNICUS/S2_HARMONIZED   \n",
       "\n",
       "             utc                                       system_index  \n",
       "0  1497197625460  COPERNICUS/S2_HARMONIZED/20170611T161351_20170...  \n",
       "1  1497197625460  COPERNICUS/S2_HARMONIZED/20170611T161351_20170...  \n",
       "2  1498061717260  COPERNICUS/S2_HARMONIZED/20170621T161341_20170...  \n",
       "3  1498925694610  COPERNICUS/S2_HARMONIZED/20170701T161341_20170...  \n",
       "4  1500654051180  COPERNICUS/S2_HARMONIZED/20170721T161351_20170...  "
      ]
     },
     "execution_count": 4,
     "metadata": {},
     "output_type": "execute_result"
    }
   ],
   "source": [
    "from geeopca import datautils as du\n",
    "\n",
    "gdf = du.image_collection_to_dataframe(s2_dataset)\n",
    "gdf.head()"
   ]
  },
  {
   "cell_type": "code",
   "execution_count": 5,
   "metadata": {},
   "outputs": [
    {
     "data": {
      "text/html": [
       "\n",
       "            <style>\n",
       "                .geemap-dark {\n",
       "                    --jp-widgets-color: white;\n",
       "                    --jp-widgets-label-color: white;\n",
       "                    --jp-ui-font-color1: white;\n",
       "                    --jp-layout-color2: #454545;\n",
       "                    background-color: #383838;\n",
       "                }\n",
       "\n",
       "                .geemap-dark .jupyter-button {\n",
       "                    --jp-layout-color3: #383838;\n",
       "                }\n",
       "\n",
       "                .geemap-colab {\n",
       "                    background-color: var(--colab-primary-surface-color, white);\n",
       "                }\n",
       "\n",
       "                .geemap-colab .jupyter-button {\n",
       "                    --jp-layout-color3: var(--colab-primary-surface-color, white);\n",
       "                }\n",
       "            </style>\n",
       "            "
      ],
      "text/plain": [
       "<IPython.core.display.HTML object>"
      ]
     },
     "metadata": {},
     "output_type": "display_data"
    },
    {
     "data": {
      "text/html": [
       "<div>\n",
       "<style scoped>\n",
       "    .dataframe tbody tr th:only-of-type {\n",
       "        vertical-align: middle;\n",
       "    }\n",
       "\n",
       "    .dataframe tbody tr th {\n",
       "        vertical-align: top;\n",
       "    }\n",
       "\n",
       "    .dataframe thead th {\n",
       "        text-align: right;\n",
       "    }\n",
       "</style>\n",
       "<table border=\"1\" class=\"dataframe\">\n",
       "  <thead>\n",
       "    <tr style=\"text-align: right;\">\n",
       "      <th></th>\n",
       "      <th>geometry</th>\n",
       "      <th>sysid</th>\n",
       "      <th>system_prefix</th>\n",
       "      <th>utc</th>\n",
       "      <th>system_index</th>\n",
       "      <th>x</th>\n",
       "      <th>y</th>\n",
       "      <th>timezone</th>\n",
       "      <th>timestamp</th>\n",
       "      <th>year</th>\n",
       "      <th>julian_date</th>\n",
       "    </tr>\n",
       "  </thead>\n",
       "  <tbody>\n",
       "    <tr>\n",
       "      <th>0</th>\n",
       "      <td>POLYGON ((-77.44500 44.22733, -77.44502 44.227...</td>\n",
       "      <td>20170611T161351_20170611T161345_T18TUP</td>\n",
       "      <td>COPERNICUS/S2_HARMONIZED</td>\n",
       "      <td>1.497198e+09</td>\n",
       "      <td>COPERNICUS/S2_HARMONIZED/20170611T161351_20170...</td>\n",
       "      <td>-77.482410</td>\n",
       "      <td>44.181806</td>\n",
       "      <td>America/Toronto</td>\n",
       "      <td>2017-06-11 12:13:45.460000038-04:00</td>\n",
       "      <td>2017</td>\n",
       "      <td>162</td>\n",
       "    </tr>\n",
       "    <tr>\n",
       "      <th>1</th>\n",
       "      <td>POLYGON ((-77.48083 44.13854, -77.48077 44.138...</td>\n",
       "      <td>20170611T161351_20170611T161345_T18TUQ</td>\n",
       "      <td>COPERNICUS/S2_HARMONIZED</td>\n",
       "      <td>1.497198e+09</td>\n",
       "      <td>COPERNICUS/S2_HARMONIZED/20170611T161351_20170...</td>\n",
       "      <td>-77.372628</td>\n",
       "      <td>44.786364</td>\n",
       "      <td>America/Toronto</td>\n",
       "      <td>2017-06-11 12:13:45.460000038-04:00</td>\n",
       "      <td>2017</td>\n",
       "      <td>162</td>\n",
       "    </tr>\n",
       "    <tr>\n",
       "      <th>2</th>\n",
       "      <td>POLYGON ((-77.50419 44.22598, -77.50420 44.225...</td>\n",
       "      <td>20170621T161341_20170621T161517_T18TUP</td>\n",
       "      <td>COPERNICUS/S2_HARMONIZED</td>\n",
       "      <td>1.498062e+09</td>\n",
       "      <td>COPERNICUS/S2_HARMONIZED/20170621T161341_20170...</td>\n",
       "      <td>-77.479250</td>\n",
       "      <td>44.175426</td>\n",
       "      <td>America/Toronto</td>\n",
       "      <td>2017-06-21 12:15:17.259999990-04:00</td>\n",
       "      <td>2017</td>\n",
       "      <td>172</td>\n",
       "    </tr>\n",
       "    <tr>\n",
       "      <th>3</th>\n",
       "      <td>POLYGON ((-77.43574 44.22753, -77.43577 44.227...</td>\n",
       "      <td>20170701T161341_20170701T161454_T18TUP</td>\n",
       "      <td>COPERNICUS/S2_HARMONIZED</td>\n",
       "      <td>1.498926e+09</td>\n",
       "      <td>COPERNICUS/S2_HARMONIZED/20170701T161341_20170...</td>\n",
       "      <td>-77.478795</td>\n",
       "      <td>44.174386</td>\n",
       "      <td>America/Toronto</td>\n",
       "      <td>2017-07-01 12:14:54.609999895-04:00</td>\n",
       "      <td>2017</td>\n",
       "      <td>182</td>\n",
       "    </tr>\n",
       "    <tr>\n",
       "      <th>4</th>\n",
       "      <td>POLYGON ((-77.51674 44.52233, -77.51686 44.522...</td>\n",
       "      <td>20170721T161351_20170721T162051_T18TUQ</td>\n",
       "      <td>COPERNICUS/S2_HARMONIZED</td>\n",
       "      <td>1.500654e+09</td>\n",
       "      <td>COPERNICUS/S2_HARMONIZED/20170721T161351_20170...</td>\n",
       "      <td>-77.453202</td>\n",
       "      <td>44.369485</td>\n",
       "      <td>America/Toronto</td>\n",
       "      <td>2017-07-21 12:20:51.180000067-04:00</td>\n",
       "      <td>2017</td>\n",
       "      <td>202</td>\n",
       "    </tr>\n",
       "  </tbody>\n",
       "</table>\n",
       "</div>"
      ],
      "text/plain": [
       "                                            geometry  \\\n",
       "0  POLYGON ((-77.44500 44.22733, -77.44502 44.227...   \n",
       "1  POLYGON ((-77.48083 44.13854, -77.48077 44.138...   \n",
       "2  POLYGON ((-77.50419 44.22598, -77.50420 44.225...   \n",
       "3  POLYGON ((-77.43574 44.22753, -77.43577 44.227...   \n",
       "4  POLYGON ((-77.51674 44.52233, -77.51686 44.522...   \n",
       "\n",
       "                                    sysid             system_prefix  \\\n",
       "0  20170611T161351_20170611T161345_T18TUP  COPERNICUS/S2_HARMONIZED   \n",
       "1  20170611T161351_20170611T161345_T18TUQ  COPERNICUS/S2_HARMONIZED   \n",
       "2  20170621T161341_20170621T161517_T18TUP  COPERNICUS/S2_HARMONIZED   \n",
       "3  20170701T161341_20170701T161454_T18TUP  COPERNICUS/S2_HARMONIZED   \n",
       "4  20170721T161351_20170721T162051_T18TUQ  COPERNICUS/S2_HARMONIZED   \n",
       "\n",
       "            utc                                       system_index          x  \\\n",
       "0  1.497198e+09  COPERNICUS/S2_HARMONIZED/20170611T161351_20170... -77.482410   \n",
       "1  1.497198e+09  COPERNICUS/S2_HARMONIZED/20170611T161351_20170... -77.372628   \n",
       "2  1.498062e+09  COPERNICUS/S2_HARMONIZED/20170621T161341_20170... -77.479250   \n",
       "3  1.498926e+09  COPERNICUS/S2_HARMONIZED/20170701T161341_20170... -77.478795   \n",
       "4  1.500654e+09  COPERNICUS/S2_HARMONIZED/20170721T161351_20170... -77.453202   \n",
       "\n",
       "           y         timezone                           timestamp  year  \\\n",
       "0  44.181806  America/Toronto 2017-06-11 12:13:45.460000038-04:00  2017   \n",
       "1  44.786364  America/Toronto 2017-06-11 12:13:45.460000038-04:00  2017   \n",
       "2  44.175426  America/Toronto 2017-06-21 12:15:17.259999990-04:00  2017   \n",
       "3  44.174386  America/Toronto 2017-07-01 12:14:54.609999895-04:00  2017   \n",
       "4  44.369485  America/Toronto 2017-07-21 12:20:51.180000067-04:00  2017   \n",
       "\n",
       "   julian_date  \n",
       "0          162  \n",
       "1          162  \n",
       "2          172  \n",
       "3          182  \n",
       "4          202  "
      ]
     },
     "execution_count": 5,
     "metadata": {},
     "output_type": "execute_result"
    }
   ],
   "source": [
    "gdf = du.process_date_time(gdf)\n",
    "gdf.head()"
   ]
  },
  {
   "cell_type": "code",
   "execution_count": 6,
   "metadata": {},
   "outputs": [
    {
     "data": {
      "text/html": [
       "\n",
       "            <style>\n",
       "                .geemap-dark {\n",
       "                    --jp-widgets-color: white;\n",
       "                    --jp-widgets-label-color: white;\n",
       "                    --jp-ui-font-color1: white;\n",
       "                    --jp-layout-color2: #454545;\n",
       "                    background-color: #383838;\n",
       "                }\n",
       "\n",
       "                .geemap-dark .jupyter-button {\n",
       "                    --jp-layout-color3: #383838;\n",
       "                }\n",
       "\n",
       "                .geemap-colab {\n",
       "                    background-color: var(--colab-primary-surface-color, white);\n",
       "                }\n",
       "\n",
       "                .geemap-colab .jupyter-button {\n",
       "                    --jp-layout-color3: var(--colab-primary-surface-color, white);\n",
       "                }\n",
       "            </style>\n",
       "            "
      ],
      "text/plain": [
       "<IPython.core.display.HTML object>"
      ]
     },
     "metadata": {},
     "output_type": "display_data"
    },
    {
     "data": {
      "image/png": "[encoded data removed]",
      "text/plain": [
       "<Figure size 640x480 with 1 Axes>"
      ]
     },
     "metadata": {},
     "output_type": "display_data"
    }
   ],
   "source": [
    "from geeopca import plots\n",
    "\n",
    "plot = plots.date_time_scatter_plot(gdf)\n"
   ]
  },
  {
   "cell_type": "code",
   "execution_count": null,
   "metadata": {},
   "outputs": [],
   "source": []
  }
 ],
 "metadata": {
  "kernelspec": {
   "display_name": "venv",
   "language": "python",
   "name": "python3"
  },
  "language_info": {
   "codemirror_mode": {
    "name": "ipython",
    "version": 3
   },
   "file_extension": ".py",
   "mimetype": "text/x-python",
   "name": "python",
   "nbconvert_exporter": "python",
   "pygments_lexer": "ipython3",
   "version": "3.12.2"
  }
 },
 "nbformat": 4,
 "nbformat_minor": 2
}
